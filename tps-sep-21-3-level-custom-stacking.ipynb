{
 "cells": [
  {
   "cell_type": "code",
   "execution_count": null,
   "metadata": {
    "_cell_guid": "b1076dfc-b9ad-4769-8c92-a6c4dae69d19",
    "_uuid": "8f2839f25d086af736a60e9eeb907d3b93b6e0e5",
    "execution": {
     "iopub.execute_input": "2021-09-18T22:44:12.728058Z",
     "iopub.status.busy": "2021-09-18T22:44:12.727641Z",
     "iopub.status.idle": "2021-09-18T22:44:14.348413Z",
     "shell.execute_reply": "2021-09-18T22:44:14.34711Z",
     "shell.execute_reply.started": "2021-09-18T22:44:12.727978Z"
    }
   },
   "outputs": [],
   "source": [
    "# General imports\n",
    "import os\n",
    "import cv2\n",
    "import glob\n",
    "import time\n",
    "import json\n",
    "import random\n",
    "import warnings\n",
    "\n",
    "import numpy as np\n",
    "import pandas as pd\n",
    "\n",
    "import seaborn as sns\n",
    "import matplotlib as mpl\n",
    "import matplotlib.pyplot as plt\n",
    "%matplotlib inline\n",
    "\n",
    "from sklearn import svm\n",
    "from sklearn import tree\n",
    "from sklearn import impute\n",
    "from sklearn import metrics\n",
    "from sklearn import ensemble\n",
    "from sklearn import linear_model\n",
    "from sklearn import decomposition\n",
    "from sklearn import preprocessing\n",
    "from sklearn import model_selection\n",
    "\n",
    "\n",
    "warnings.filterwarnings('ignore')\n",
    "\n",
    "SEED = 42\n",
    "np.random.seed(SEED)\n",
    "\n",
    "pd.set_option('display.max_rows', None)\n",
    "pd.set_option('display.max_columns', None)\n",
    "pd.set_option('float_format', '{:f}'.format)\n",
    "\n",
    "sns.set_style(\"white\")\n",
    "mpl.rcParams['figure.dpi'] = 600\n",
    "%matplotlib inline"
   ]
  },
  {
   "cell_type": "code",
   "execution_count": null,
   "metadata": {
    "execution": {
     "iopub.execute_input": "2021-09-18T22:44:23.563051Z",
     "iopub.status.busy": "2021-09-18T22:44:23.562651Z",
     "iopub.status.idle": "2021-09-18T22:44:53.528784Z",
     "shell.execute_reply": "2021-09-18T22:44:53.527777Z",
     "shell.execute_reply.started": "2021-09-18T22:44:23.563019Z"
    }
   },
   "outputs": [],
   "source": [
    "train_data = pd.read_csv(\"../input/tabular-playground-series-sep-2021/train.csv\").drop(columns=['id'])\n",
    "\n",
    "train_data.head()"
   ]
  },
  {
   "cell_type": "code",
   "execution_count": null,
   "metadata": {
    "execution": {
     "iopub.execute_input": "2021-09-18T22:44:53.530474Z",
     "iopub.status.busy": "2021-09-18T22:44:53.530191Z",
     "iopub.status.idle": "2021-09-18T22:44:58.416918Z",
     "shell.execute_reply": "2021-09-18T22:44:58.415966Z",
     "shell.execute_reply.started": "2021-09-18T22:44:53.530437Z"
    }
   },
   "outputs": [],
   "source": [
    "train_data.describe()"
   ]
  },
  {
   "cell_type": "code",
   "execution_count": null,
   "metadata": {
    "execution": {
     "iopub.execute_input": "2021-09-18T22:45:20.501966Z",
     "iopub.status.busy": "2021-09-18T22:45:20.501412Z",
     "iopub.status.idle": "2021-09-18T22:45:20.506422Z",
     "shell.execute_reply": "2021-09-18T22:45:20.505008Z",
     "shell.execute_reply.started": "2021-09-18T22:45:20.501929Z"
    }
   },
   "outputs": [],
   "source": [
    "N_FOLDS = 10\n",
    "TARGET = 'claim'"
   ]
  },
  {
   "cell_type": "code",
   "execution_count": null,
   "metadata": {
    "execution": {
     "iopub.execute_input": "2021-09-18T22:45:20.986788Z",
     "iopub.status.busy": "2021-09-18T22:45:20.986369Z",
     "iopub.status.idle": "2021-09-18T22:45:36.074966Z",
     "shell.execute_reply": "2021-09-18T22:45:36.073983Z",
     "shell.execute_reply.started": "2021-09-18T22:45:20.986747Z"
    }
   },
   "outputs": [],
   "source": [
    "test_data = pd.read_csv(\"../input/tabular-playground-series-sep-2021/test.csv\").drop(columns=['id'])\n",
    "\n",
    "test_data.head()"
   ]
  },
  {
   "cell_type": "code",
   "execution_count": null,
   "metadata": {
    "execution": {
     "iopub.execute_input": "2021-09-18T22:45:36.077142Z",
     "iopub.status.busy": "2021-09-18T22:45:36.07656Z",
     "iopub.status.idle": "2021-09-18T22:45:36.084306Z",
     "shell.execute_reply": "2021-09-18T22:45:36.083336Z",
     "shell.execute_reply.started": "2021-09-18T22:45:36.0771Z"
    }
   },
   "outputs": [],
   "source": [
    "features = [col for col in train_data.columns if col != TARGET]\n",
    "\n",
    "len(features)"
   ]
  },
  {
   "cell_type": "code",
   "execution_count": null,
   "metadata": {
    "execution": {
     "iopub.execute_input": "2021-09-18T22:45:36.086817Z",
     "iopub.status.busy": "2021-09-18T22:45:36.086373Z",
     "iopub.status.idle": "2021-09-18T22:45:36.820408Z",
     "shell.execute_reply": "2021-09-18T22:45:36.819489Z",
     "shell.execute_reply.started": "2021-09-18T22:45:36.086765Z"
    }
   },
   "outputs": [],
   "source": [
    "train_data['n_missing'] = train_data[features].isna().sum(axis=1)\n",
    "test_data['n_missing'] = test_data[features].isna().sum(axis=1)\n",
    "\n",
    "features.append('n_missing')"
   ]
  },
  {
   "cell_type": "code",
   "execution_count": null,
   "metadata": {
    "execution": {
     "iopub.execute_input": "2021-09-18T22:51:59.924653Z",
     "iopub.status.busy": "2021-09-18T22:51:59.92429Z",
     "iopub.status.idle": "2021-09-18T22:52:07.389638Z",
     "shell.execute_reply": "2021-09-18T22:52:07.388849Z",
     "shell.execute_reply.started": "2021-09-18T22:51:59.924623Z"
    }
   },
   "outputs": [],
   "source": [
    "modes = train_data[features].mode().iloc[0]\n",
    "mean = train_data[features].mean(axis=0)\n",
    "train_data[features] = train_data[features].fillna(modes)\n",
    "test_data[features] = test_data[features].fillna(modes)"
   ]
  },
  {
   "cell_type": "code",
   "execution_count": null,
   "metadata": {
    "execution": {
     "iopub.execute_input": "2021-09-11T15:44:00.116505Z",
     "iopub.status.busy": "2021-09-11T15:44:00.116218Z",
     "iopub.status.idle": "2021-09-11T15:44:44.773866Z",
     "shell.execute_reply": "2021-09-11T15:44:44.772893Z",
     "shell.execute_reply.started": "2021-09-11T15:44:00.116475Z"
    }
   },
   "outputs": [],
   "source": [
    "scaler = preprocessing.StandardScaler()\n",
    "\n",
    "train_data[features] = scaler.fit_transform(train_data[features])\n",
    "test_data[features] = scaler.transform(test_data[features])"
   ]
  },
  {
   "cell_type": "code",
   "execution_count": null,
   "metadata": {
    "execution": {
     "iopub.execute_input": "2021-09-11T15:44:44.775835Z",
     "iopub.status.busy": "2021-09-11T15:44:44.775477Z",
     "iopub.status.idle": "2021-09-11T15:44:53.190083Z",
     "shell.execute_reply": "2021-09-11T15:44:53.189184Z",
     "shell.execute_reply.started": "2021-09-11T15:44:44.775798Z"
    }
   },
   "outputs": [],
   "source": [
    "train_data['min_row'] = train_data[features].min(axis=1)\n",
    "train_data['max_row'] = train_data[features].max(axis=1)\n",
    "train_data['mean_row'] = train_data[features].mean(axis=1)\n",
    "train_data['std_row'] = train_data[features].std(axis=1)\n",
    "\n",
    "test_data['min_row'] = test_data[features].min(axis=1)\n",
    "test_data['max_row'] = test_data[features].max(axis=1)\n",
    "test_data['mean_row'] = test_data[features].mean(axis=1)\n",
    "test_data['std_row'] = test_data[features].std(axis=1)\n",
    "\n",
    "features += ['min_row', 'max_row', 'mean_row', 'std_row']"
   ]
  },
  {
   "cell_type": "code",
   "execution_count": null,
   "metadata": {
    "execution": {
     "iopub.execute_input": "2021-09-11T15:44:53.192024Z",
     "iopub.status.busy": "2021-09-11T15:44:53.191686Z",
     "iopub.status.idle": "2021-09-11T15:44:53.201716Z",
     "shell.execute_reply": "2021-09-11T15:44:53.200756Z",
     "shell.execute_reply.started": "2021-09-11T15:44:53.191988Z"
    }
   },
   "outputs": [],
   "source": [
    "def cross_validate_model(class_name, class_params, train_data, test_data, n_splits=5):\n",
    "    \n",
    "    X = train_data[features].to_numpy()\n",
    "    Y = train_data[TARGET]\n",
    "    X_test = test_data[features].to_numpy()\n",
    "    \n",
    "    skfolds = model_selection.StratifiedKFold(n_splits=n_splits, shuffle=False)\n",
    "    \n",
    "    oof_preds, oof_y = [], []\n",
    "    \n",
    "    test_preds = np.zeros((X_test.shape[0]))\n",
    "    \n",
    "    for i, (train_index, val_index) in enumerate(skfolds.split(X, Y)):\n",
    "        x_train, x_val = X[train_index], X[val_index]\n",
    "        y_train, y_val = Y[train_index], Y[val_index]\n",
    "        \n",
    "        print(f\"{'-'*10} Fold {i+1} Started {'-'*10}\")\n",
    "        clf = class_name(**class_params)\n",
    "    \n",
    "        clf = clf.fit(x_train, y_train)\n",
    "        preds = clf.predict_proba(x_val)\n",
    "        \n",
    "        oof_preds.extend(preds[:, 1])\n",
    "        oof_y.extend(y_val)\n",
    "        \n",
    "        test_preds += clf.predict_proba(X_test)[:, 1]\n",
    "        \n",
    "        ra_score = metrics.roc_auc_score(y_val, preds[:, 1])\n",
    "    \n",
    "        print(f\"ROC AUC of current fold is {ra_score}\")\n",
    "        \n",
    "    ra_score = metrics.roc_auc_score(oof_y, oof_preds)\n",
    "    \n",
    "    print(f\"\\nOverall ROC AUC is {ra_score}\")\n",
    "    \n",
    "    return oof_preds, test_preds / n_splits"
   ]
  },
  {
   "cell_type": "code",
   "execution_count": null,
   "metadata": {
    "execution": {
     "iopub.execute_input": "2021-09-11T15:44:53.203493Z",
     "iopub.status.busy": "2021-09-11T15:44:53.203128Z",
     "iopub.status.idle": "2021-09-11T15:44:53.217817Z",
     "shell.execute_reply": "2021-09-11T15:44:53.21675Z",
     "shell.execute_reply.started": "2021-09-11T15:44:53.20346Z"
    }
   },
   "outputs": [],
   "source": [
    "xgb_params = {\n",
    "    'n_estimators' : 3600,\n",
    "    'reg_lambda' : 3,\n",
    "    'reg_alpha' : 26,\n",
    "    'subsample' : 0.6000000000000001,\n",
    "    'colsample_bytree' : 0.6000000000000001,\n",
    "    'max_depth' : 9,\n",
    "    'min_child_weight' : 5,\n",
    "    'gamma' : 13.054739572819486,\n",
    "    'learning_rate': 0.01,\n",
    "    'tree_method': 'gpu_hist',\n",
    "    'booster': 'gbtree'\n",
    "}\n",
    "\n",
    "lgbm_params = {\n",
    "    'metric' : 'auc',\n",
    "    'max_depth' : 3,\n",
    "    'num_leaves' : 7,\n",
    "    'n_estimators' : 5000,\n",
    "    'colsample_bytree' : 0.3,\n",
    "    'subsample' : 0.5,\n",
    "    'random_state' : 42,\n",
    "    'reg_alpha' : 18,\n",
    "    'reg_lambda' : 17,\n",
    "    'learning_rate' : 0.095,\n",
    "    'device' : 'gpu',\n",
    "    'objective' : 'binary'\n",
    "}\n",
    "\n",
    "lgbm_params2 = {\n",
    "    'metric' : 'auc',\n",
    "    'objective': 'binary',\n",
    "    'n_estimators': 10000,\n",
    "    'random_state': 42,\n",
    "    'learning_rate': 0.095,\n",
    "    'subsample': 0.6,\n",
    "    'subsample_freq': 1,\n",
    "    'colsample_bytree': 0.4,\n",
    "    'reg_alpha': 10.0,\n",
    "    'reg_lambda': 1e-1,\n",
    "    'min_child_weight': 256,\n",
    "    'min_child_samples': 20,\n",
    "    'device' : 'gpu',\n",
    "    'max_depth' : 3,\n",
    "    'num_leaves' : 7\n",
    "}\n",
    "\n",
    "lgbm_params3 = {\n",
    "    'metric' : 'auc',\n",
    "    'objective' : 'binary',\n",
    "    'device_type': 'gpu', \n",
    "    'n_estimators': 10000, \n",
    "    'learning_rate': 0.12230165751633416, \n",
    "    'num_leaves': 1400, \n",
    "    'max_depth': 8, \n",
    "    'min_child_samples': 3100, \n",
    "    'reg_alpha': 10, \n",
    "    'reg_lambda': 65, \n",
    "    'min_split_gain': 5.157818977461183, \n",
    "    'subsample': 0.5, \n",
    "    'subsample_freq': 1, \n",
    "    'colsample_bytree': 0.2\n",
    "}\n",
    "\n",
    "catb_params = {\n",
    "    'eval_metric' : 'AUC',\n",
    "    'iterations': 15585, \n",
    "    'objective': 'CrossEntropy',\n",
    "    'bootstrap_type': 'Bernoulli', \n",
    "    'od_wait': 1144, \n",
    "    'learning_rate': 0.023575206684596582, \n",
    "    'reg_lambda': 36.30433203563295, \n",
    "    'random_strength': 43.75597655616195, \n",
    "    'depth': 7, \n",
    "    'min_data_in_leaf': 11, \n",
    "    'leaf_estimation_iterations': 1, \n",
    "    'subsample': 0.8227911142845009,\n",
    "    'task_type' : 'GPU',\n",
    "    'devices' : '0',\n",
    "    'verbose' : 0\n",
    "}\n",
    "# lgbm_params2 = {\n",
    "#     'max_depth' : 3,\n",
    "#     'num_leaves' : 7,\n",
    "#     'n_estimators' : 10000,\n",
    "#     'colsample_bytree' : 0.3,\n",
    "#     'subsample' : 0.5,\n",
    "#     'reg_alpha':18,\n",
    "#     'reg_lambda':17,\n",
    "#     'learning_rate' : 0.095,\n",
    "#     'device' : 'gpu',\n",
    "#     'objective': 'binary',\n",
    "#     'min_child_samples': 63,\n",
    "#     'feature_fraction': 0.6864594334728974,\n",
    "#     'bagging_fraction': 0.9497327922401265,\n",
    "#     'bagging_freq': 1,\n",
    "#     'gpu_platform_id': 0,\n",
    "#     'gpu_device_id': 0}\n",
    "\n",
    "catb_params2 = {\n",
    "    'eval_metric' : 'AUC',\n",
    "    'depth' : 5,\n",
    "    'grow_policy' : 'SymmetricTree',\n",
    "    'l2_leaf_reg' : 3.0,\n",
    "    'random_strength' : 1.0,\n",
    "    'learning_rate' : 0.1,\n",
    "    'iterations' : 10000,\n",
    "    'loss_function' : 'CrossEntropy',\n",
    "    'task_type' : 'GPU',\n",
    "    'devices' : '0',\n",
    "    'verbose' : 0\n",
    "}\n",
    "\n",
    "XGB_params = {    'eval_metric' : 'auc',\n",
    "    'lambda': 0.004562711234493688, \n",
    "    'alpha': 7.268146704546314, \n",
    "    'colsample_bytree': 0.6468987558386358, \n",
    "    'colsample_bynode': 0.29113878257290376, \n",
    "    'colsample_bylevel': 0.8915913499148167, \n",
    "    'subsample': 0.37130229826185135, \n",
    "    'learning_rate': 0.021671163563123198, \n",
    "    'grow_policy': 'lossguide', \n",
    "    'max_depth': 18, \n",
    "    'min_child_weight': 215, \n",
    "    'max_bin': 272,\n",
    "    'n_estimators': 10000,\n",
    "    'random_state': 0,\n",
    "    'use_label_encoder': False,\n",
    "    'objective': 'binary:logistic',\n",
    "    'tree_method': 'gpu_hist',\n",
    "    'gpu_id': 0,\n",
    "    'predictor': 'gpu_predictor'\n",
    "             }\n",
    "XGB_params2 = {\n",
    "    'eval_metric': 'auc', \n",
    "    'objective': 'binary:logistic', \n",
    "    'tree_method': 'gpu_hist', \n",
    "    'gpu_id': 0, \n",
    "    'predictor': 'gpu_predictor', \n",
    "    'n_estimators': 10000, \n",
    "    'learning_rate': 0.01063045229441343, \n",
    "    'gamma': 0.24652519525750877, \n",
    "    'max_depth': 4, \n",
    "    'min_child_weight': 366, \n",
    "    'subsample': 0.6423040816299684, \n",
    "    'colsample_bytree': 0.7751264493218339, \n",
    "    'colsample_bylevel': 0.8675692743597421, \n",
    "    'lambda': 0, \n",
    "    'alpha': 10\n",
    "}"
   ]
  },
  {
   "cell_type": "code",
   "execution_count": null,
   "metadata": {
    "execution": {
     "iopub.execute_input": "2021-09-11T15:44:53.219473Z",
     "iopub.status.busy": "2021-09-11T15:44:53.219042Z",
     "iopub.status.idle": "2021-09-11T15:44:55.639079Z",
     "shell.execute_reply": "2021-09-11T15:44:55.638259Z",
     "shell.execute_reply.started": "2021-09-11T15:44:53.219434Z"
    }
   },
   "outputs": [],
   "source": [
    "from xgboost import XGBClassifier\n",
    "from lightgbm import LGBMClassifier\n",
    "from catboost import CatBoostClassifier"
   ]
  },
  {
   "cell_type": "markdown",
   "metadata": {},
   "source": [
    "### Lv1\n",
    "**Input**: 118 Features\n",
    "\n",
    "**Models**: [XGB, CATB1, CATB2, LGBM1, LGBM2]"
   ]
  },
  {
   "cell_type": "code",
   "execution_count": null,
   "metadata": {
    "execution": {
     "iopub.execute_input": "2021-09-11T15:44:55.640731Z",
     "iopub.status.busy": "2021-09-11T15:44:55.640389Z",
     "iopub.status.idle": "2021-09-11T15:44:55.646042Z",
     "shell.execute_reply": "2021-09-11T15:44:55.645016Z",
     "shell.execute_reply.started": "2021-09-11T15:44:55.640697Z"
    }
   },
   "outputs": [],
   "source": [
    "lv1_oof = pd.DataFrame()\n",
    "lv1_test = pd.DataFrame()"
   ]
  },
  {
   "cell_type": "code",
   "execution_count": null,
   "metadata": {
    "execution": {
     "iopub.execute_input": "2021-09-08T13:37:30.232376Z",
     "iopub.status.busy": "2021-09-08T13:37:30.231876Z",
     "iopub.status.idle": "2021-09-08T13:44:24.09452Z",
     "shell.execute_reply": "2021-09-08T13:44:24.093663Z",
     "shell.execute_reply.started": "2021-09-08T13:37:30.232335Z"
    }
   },
   "outputs": [],
   "source": [
    "oof_preds, test_preds = cross_validate_model(XGBClassifier, \n",
    "                                             XGB_params, \n",
    "                                             train_data, \n",
    "                                             test_data,\n",
    "                                             N_FOLDS)\n",
    "\n",
    "lv1_oof['xgb_1'] = oof_preds\n",
    "lv1_test['xgb_1'] = test_preds\n",
    "\n",
    "oof_preds, test_preds = cross_validate_model(XGBClassifier, \n",
    "                                             XGB_params2, \n",
    "                                             train_data, \n",
    "                                             test_data,\n",
    "                                             N_FOLDS)\n",
    "\n",
    "lv1_oof['xgb_2'] = oof_preds\n",
    "lv1_test['xgb_2'] = test_preds"
   ]
  },
  {
   "cell_type": "code",
   "execution_count": null,
   "metadata": {
    "execution": {
     "iopub.execute_input": "2021-09-08T13:44:24.096348Z",
     "iopub.status.busy": "2021-09-08T13:44:24.096015Z",
     "iopub.status.idle": "2021-09-08T14:30:33.694656Z",
     "shell.execute_reply": "2021-09-08T14:30:33.693804Z",
     "shell.execute_reply.started": "2021-09-08T13:44:24.096313Z"
    }
   },
   "outputs": [],
   "source": [
    "oof_preds, test_preds = cross_validate_model(CatBoostClassifier, \n",
    "                                             catb_params, \n",
    "                                             train_data, \n",
    "                                             test_data,\n",
    "                                             N_FOLDS)\n",
    "\n",
    "lv1_oof['catb_1'] = oof_preds\n",
    "lv1_test['catb_1'] = test_preds\n",
    "\n",
    "oof_preds, test_preds = cross_validate_model(CatBoostClassifier, \n",
    "                                             catb_params2, \n",
    "                                             train_data, \n",
    "                                             test_data,\n",
    "                                             N_FOLDS)\n",
    "\n",
    "lv1_oof['catb_2'] = oof_preds\n",
    "lv1_test['catb_2'] = test_preds"
   ]
  },
  {
   "cell_type": "code",
   "execution_count": null,
   "metadata": {
    "execution": {
     "iopub.execute_input": "2021-09-11T15:44:55.648157Z",
     "iopub.status.busy": "2021-09-11T15:44:55.647581Z"
    }
   },
   "outputs": [],
   "source": [
    "# oof_preds, test_preds = cross_validate_model(LGBMClassifier, \n",
    "#                                              lgbm_params, \n",
    "#                                              train_data, \n",
    "#                                              test_data,\n",
    "#                                              N_FOLDS)\n",
    "\n",
    "# lv1_oof['lgbm_1'] = oof_preds\n",
    "# lv1_test['lgbm_1'] = test_preds\n",
    "\n",
    "\n",
    "oof_preds, test_preds = cross_validate_model(LGBMClassifier, \n",
    "                                             lgbm_params2, \n",
    "                                             train_data, \n",
    "                                             test_data,\n",
    "                                             N_FOLDS)\n",
    "\n",
    "lv1_oof['lgbm_2'] = oof_preds\n",
    "lv1_test['lgbm_2'] = test_preds\n",
    "\n",
    "oof_preds, test_preds = cross_validate_model(LGBMClassifier, \n",
    "                                             lgbm_params3, \n",
    "                                             train_data, \n",
    "                                             test_data,\n",
    "                                             N_FOLDS)\n",
    "\n",
    "lv1_oof['lgbm_3'] = oof_preds\n",
    "lv1_test['lgbm_3'] = test_preds"
   ]
  },
  {
   "cell_type": "code",
   "execution_count": null,
   "metadata": {
    "execution": {
     "iopub.execute_input": "2021-09-08T17:41:41.630922Z",
     "iopub.status.busy": "2021-09-08T17:41:41.630638Z",
     "iopub.status.idle": "2021-09-08T17:41:41.639281Z",
     "shell.execute_reply": "2021-09-08T17:41:41.638429Z",
     "shell.execute_reply.started": "2021-09-08T17:41:41.630896Z"
    }
   },
   "outputs": [],
   "source": [
    "lv1_oof[TARGET] = train_data[TARGET]"
   ]
  },
  {
   "cell_type": "code",
   "execution_count": null,
   "metadata": {
    "execution": {
     "iopub.execute_input": "2021-09-08T18:11:47.366155Z",
     "iopub.status.busy": "2021-09-08T18:11:47.365832Z",
     "iopub.status.idle": "2021-09-08T18:11:50.147925Z",
     "shell.execute_reply": "2021-09-08T18:11:50.147047Z",
     "shell.execute_reply.started": "2021-09-08T18:11:47.366128Z"
    }
   },
   "outputs": [],
   "source": [
    "df1 = pd.read_csv('../input/manav-l1/L1_train_pred_1.csv').sort_values('id')\n",
    "df2 = pd.read_csv('../input/manav-l1/L1_train_pred_2.csv').sort_values('id')\n",
    "df3 = pd.read_csv('../input/manav-l1/L1_train_pred_3.csv').sort_values('id')\n",
    "df4 = pd.read_csv('../input/manav-l1/L1_train_pred_4.csv').sort_values('id')\n",
    "df5 = pd.read_csv('../input/manav-l1/L1_train_pred_5.csv').sort_values('id')\n",
    "df6 = pd.read_csv('../input/manav-l1/L1_train_pred_6.csv').sort_values('id')\n",
    "df7 = pd.read_csv('../input/manav-l1/L1_train_pred_7.csv').sort_values('id')\n",
    "\n",
    "lv1_oof['l1_m0'] = df1.iloc[:, -1].to_numpy()\n",
    "lv1_oof['l1_m1'] = df2.iloc[:, -1].to_numpy()\n",
    "lv1_oof['l1_m2'] = df3.iloc[:, -1].to_numpy()\n",
    "lv1_oof['l1_m3'] = df4.iloc[:, -1].to_numpy()\n",
    "lv1_oof['l1_m4'] = df5.iloc[:, -1].to_numpy()\n",
    "lv1_oof['l1_m5'] = df6.iloc[:, -1].to_numpy()\n",
    "lv1_oof['l1_m6'] = df7.iloc[:, -1].to_numpy()"
   ]
  },
  {
   "cell_type": "code",
   "execution_count": null,
   "metadata": {
    "execution": {
     "iopub.execute_input": "2021-09-08T18:11:50.149958Z",
     "iopub.status.busy": "2021-09-08T18:11:50.149455Z",
     "iopub.status.idle": "2021-09-08T18:11:50.164876Z",
     "shell.execute_reply": "2021-09-08T18:11:50.163841Z",
     "shell.execute_reply.started": "2021-09-08T18:11:50.149921Z"
    }
   },
   "outputs": [],
   "source": [
    "lv1_oof.head()"
   ]
  },
  {
   "cell_type": "code",
   "execution_count": null,
   "metadata": {
    "execution": {
     "iopub.execute_input": "2021-09-08T18:13:46.440945Z",
     "iopub.status.busy": "2021-09-08T18:13:46.440575Z",
     "iopub.status.idle": "2021-09-08T18:13:48.333519Z",
     "shell.execute_reply": "2021-09-08T18:13:48.332655Z",
     "shell.execute_reply.started": "2021-09-08T18:13:46.440912Z"
    }
   },
   "outputs": [],
   "source": [
    "df1 = pd.read_csv('../input/manav-l1/L1_test_pred_1.csv').sort_values('id')\n",
    "df2 = pd.read_csv('../input/manav-l1/L1_test_pred_2.csv').sort_values('id')\n",
    "df3 = pd.read_csv('../input/manav-l1/L1_test_pred_3.csv').sort_values('id')\n",
    "df4 = pd.read_csv('../input/manav-l1/L1_test_pred_4.csv').sort_values('id')\n",
    "df5 = pd.read_csv('../input/manav-l1/L1_test_pred_5.csv').sort_values('id')\n",
    "df6 = pd.read_csv('../input/manav-l1/L1_test_pred_6.csv').sort_values('id')\n",
    "df7 = pd.read_csv('../input/manav-l1/L1_test_pred_7.csv').sort_values('id')\n",
    "\n",
    "lv1_test['l1_m0'] = df1.iloc[:, -1].to_numpy()\n",
    "lv1_test['l1_m1'] = df2.iloc[:, -1].to_numpy()\n",
    "lv1_test['l1_m2'] = df3.iloc[:, -1].to_numpy()\n",
    "lv1_test['l1_m3'] = df4.iloc[:, -1].to_numpy()\n",
    "lv1_test['l1_m4'] = df5.iloc[:, -1].to_numpy()\n",
    "lv1_test['l1_m5'] = df6.iloc[:, -1].to_numpy()\n",
    "lv1_test['l1_m6'] = df7.iloc[:, -1].to_numpy()"
   ]
  },
  {
   "cell_type": "code",
   "execution_count": null,
   "metadata": {
    "execution": {
     "iopub.execute_input": "2021-09-08T18:13:50.947739Z",
     "iopub.status.busy": "2021-09-08T18:13:50.947382Z",
     "iopub.status.idle": "2021-09-08T18:13:50.962463Z",
     "shell.execute_reply": "2021-09-08T18:13:50.961317Z",
     "shell.execute_reply.started": "2021-09-08T18:13:50.947696Z"
    }
   },
   "outputs": [],
   "source": [
    "lv1_test.head()"
   ]
  },
  {
   "cell_type": "code",
   "execution_count": null,
   "metadata": {
    "execution": {
     "iopub.execute_input": "2021-09-08T18:14:09.110054Z",
     "iopub.status.busy": "2021-09-08T18:14:09.109688Z",
     "iopub.status.idle": "2021-09-08T18:14:40.342928Z",
     "shell.execute_reply": "2021-09-08T18:14:40.342066Z",
     "shell.execute_reply.started": "2021-09-08T18:14:09.110023Z"
    }
   },
   "outputs": [],
   "source": [
    "lv1_oof.to_csv('lv1_oof.csv', index=False)\n",
    "lv1_test.to_csv('lv1_test.csv', index=False)"
   ]
  },
  {
   "cell_type": "code",
   "execution_count": null,
   "metadata": {
    "execution": {
     "iopub.execute_input": "2021-09-08T18:20:14.987342Z",
     "iopub.status.busy": "2021-09-08T18:20:14.987003Z",
     "iopub.status.idle": "2021-09-08T18:20:14.994481Z",
     "shell.execute_reply": "2021-09-08T18:20:14.99335Z",
     "shell.execute_reply.started": "2021-09-08T18:20:14.987314Z"
    }
   },
   "outputs": [],
   "source": [
    "features = [col for col in lv1_oof.columns if col != TARGET]\n",
    "\n",
    "len(features)"
   ]
  },
  {
   "cell_type": "markdown",
   "metadata": {},
   "source": [
    "### Lv2\n",
    "**Input**: Predictions from previous level along with lv1 predictions from this [notebook](https://www.kaggle.com/manabendrarout/custom-stacking-of-classifiers-gpu-tps-sep2021/).\n",
    "\n",
    "**Models**: [XGB, CATB, LGBM]"
   ]
  },
  {
   "cell_type": "code",
   "execution_count": null,
   "metadata": {
    "execution": {
     "iopub.execute_input": "2021-09-08T18:20:15.821836Z",
     "iopub.status.busy": "2021-09-08T18:20:15.821437Z",
     "iopub.status.idle": "2021-09-08T18:20:15.82705Z",
     "shell.execute_reply": "2021-09-08T18:20:15.825992Z",
     "shell.execute_reply.started": "2021-09-08T18:20:15.821805Z"
    }
   },
   "outputs": [],
   "source": [
    "lv2_oof = pd.DataFrame()\n",
    "lv2_test = pd.DataFrame()"
   ]
  },
  {
   "cell_type": "code",
   "execution_count": null,
   "metadata": {
    "execution": {
     "iopub.execute_input": "2021-09-08T18:20:16.575418Z",
     "iopub.status.busy": "2021-09-08T18:20:16.5751Z",
     "iopub.status.idle": "2021-09-08T18:21:22.950202Z",
     "shell.execute_reply": "2021-09-08T18:21:22.949355Z",
     "shell.execute_reply.started": "2021-09-08T18:20:16.575388Z"
    }
   },
   "outputs": [],
   "source": [
    "oof_preds, test_preds = cross_validate_model(XGBClassifier, \n",
    "                                             XGB_params, \n",
    "                                             lv1_oof, \n",
    "                                             lv1_test,\n",
    "                                             N_FOLDS)\n",
    "\n",
    "lv2_oof['xgb'] = oof_preds\n",
    "lv2_test['xgb'] = test_preds"
   ]
  },
  {
   "cell_type": "code",
   "execution_count": null,
   "metadata": {
    "execution": {
     "iopub.execute_input": "2021-09-08T18:33:51.717832Z",
     "iopub.status.busy": "2021-09-08T18:33:51.71747Z",
     "iopub.status.idle": "2021-09-08T18:45:05.516324Z",
     "shell.execute_reply": "2021-09-08T18:45:05.515338Z",
     "shell.execute_reply.started": "2021-09-08T18:33:51.717803Z"
    }
   },
   "outputs": [],
   "source": [
    "oof_preds, test_preds = cross_validate_model(CatBoostClassifier, \n",
    "                                             catb_params, \n",
    "                                             lv1_oof, \n",
    "                                             lv1_test,\n",
    "                                             N_FOLDS)\n",
    "\n",
    "lv2_oof['catb'] = oof_preds\n",
    "lv2_test['catb'] = test_preds"
   ]
  },
  {
   "cell_type": "code",
   "execution_count": null,
   "metadata": {
    "execution": {
     "iopub.execute_input": "2021-09-08T18:56:35.090747Z",
     "iopub.status.busy": "2021-09-08T18:56:35.090379Z",
     "iopub.status.idle": "2021-09-08T19:36:43.363893Z",
     "shell.execute_reply": "2021-09-08T19:36:43.363045Z",
     "shell.execute_reply.started": "2021-09-08T18:56:35.090716Z"
    }
   },
   "outputs": [],
   "source": [
    "oof_preds, test_preds = cross_validate_model(LGBMClassifier, \n",
    "                                             lgbm_params, \n",
    "                                             lv1_oof, \n",
    "                                             lv1_test,\n",
    "                                             N_FOLDS)\n",
    "\n",
    "lv2_oof['lgbm'] = oof_preds\n",
    "lv2_test['lgbm'] = test_preds"
   ]
  },
  {
   "cell_type": "code",
   "execution_count": null,
   "metadata": {
    "execution": {
     "iopub.execute_input": "2021-09-08T19:37:39.8094Z",
     "iopub.status.busy": "2021-09-08T19:37:39.808992Z",
     "iopub.status.idle": "2021-09-08T19:38:18.05683Z",
     "shell.execute_reply": "2021-09-08T19:38:18.055739Z",
     "shell.execute_reply.started": "2021-09-08T19:37:39.809359Z"
    }
   },
   "outputs": [],
   "source": [
    "lv2_oof.to_csv('lv2_oof.csv', index=False)\n",
    "lv2_test.to_csv('lv2_test.csv', index=False)"
   ]
  },
  {
   "cell_type": "code",
   "execution_count": null,
   "metadata": {
    "execution": {
     "iopub.execute_input": "2021-09-08T19:37:38.076861Z",
     "iopub.status.busy": "2021-09-08T19:37:38.076482Z",
     "iopub.status.idle": "2021-09-08T19:37:38.154581Z",
     "shell.execute_reply": "2021-09-08T19:37:38.153544Z",
     "shell.execute_reply.started": "2021-09-08T19:37:38.07683Z"
    }
   },
   "outputs": [],
   "source": [
    "lv2_oof['xgb_l2'] = lv2_oof['xgb']\n",
    "lv2_test['xgb_l2'] = lv2_test['xgb']\n",
    "\n",
    "for col in lv1_oof.columns:\n",
    "    lv2_oof[col] = lv1_oof[col]\n",
    "\n",
    "for col in lv1_test.columns:\n",
    "    lv2_test[col] = lv1_test[col]\n",
    "\n",
    "lv2_oof.head()"
   ]
  },
  {
   "cell_type": "code",
   "execution_count": null,
   "metadata": {
    "execution": {
     "iopub.execute_input": "2021-09-08T19:39:04.989276Z",
     "iopub.status.busy": "2021-09-08T19:39:04.988935Z",
     "iopub.status.idle": "2021-09-08T19:39:04.995537Z",
     "shell.execute_reply": "2021-09-08T19:39:04.994295Z",
     "shell.execute_reply.started": "2021-09-08T19:39:04.989247Z"
    }
   },
   "outputs": [],
   "source": [
    "features = [col for col in lv2_oof.columns if col != TARGET]\n",
    "\n",
    "len(features)"
   ]
  },
  {
   "cell_type": "markdown",
   "metadata": {},
   "source": [
    "### Lv3\n",
    "**Input**: Predictions from previous two levels.\n",
    "\n",
    "**Models**: [LogisticRegressor]"
   ]
  },
  {
   "cell_type": "code",
   "execution_count": null,
   "metadata": {
    "execution": {
     "iopub.execute_input": "2021-09-08T19:46:13.904812Z",
     "iopub.status.busy": "2021-09-08T19:46:13.904429Z",
     "iopub.status.idle": "2021-09-08T19:48:48.243302Z",
     "shell.execute_reply": "2021-09-08T19:48:48.242418Z",
     "shell.execute_reply.started": "2021-09-08T19:46:13.904782Z"
    }
   },
   "outputs": [],
   "source": [
    "from xgboost import XGBRegressor\n",
    "\n",
    "X = lv2_oof[features].to_numpy()\n",
    "Y = lv2_oof[TARGET]\n",
    "X_test = lv2_test[features].to_numpy()\n",
    "\n",
    "skfolds = model_selection.StratifiedKFold(n_splits=N_FOLDS, shuffle=True, random_state=1)\n",
    "\n",
    "oof_preds, oof_y = [], []\n",
    "\n",
    "test_preds = np.zeros((X_test.shape[0]))\n",
    "\n",
    "for i, (train_index, val_index) in enumerate(skfolds.split(X, Y)):\n",
    "    x_train, x_val = X[train_index], X[val_index]\n",
    "    y_train, y_val = Y[train_index], Y[val_index]\n",
    "\n",
    "    print(f\"{'-'*10} Fold {i+1} Started {'-'*10}\")\n",
    "    clf = linear_model.LogisticRegression(max_iter=5000)\n",
    "\n",
    "    clf = clf.fit(x_train, y_train)\n",
    "    preds = clf.predict_proba(x_val)\n",
    "\n",
    "    oof_preds.extend(preds[:, 1])\n",
    "    oof_y.extend(y_val)\n",
    "\n",
    "    test_preds += clf.predict_proba(X_test)[:, 1]\n",
    "\n",
    "    ra_score = metrics.roc_auc_score(y_val, preds[:, 1])\n",
    "\n",
    "    print(f\"ROC AUC of current fold is {ra_score}\")\n",
    "\n",
    "ra_score = metrics.roc_auc_score(oof_y, oof_preds)\n",
    "\n",
    "print(f\"\\nOverall ROC AUC is {ra_score}\")\n",
    "\n",
    "test_preds /= N_FOLDS"
   ]
  },
  {
   "cell_type": "code",
   "execution_count": null,
   "metadata": {
    "execution": {
     "iopub.execute_input": "2021-09-08T20:05:51.243046Z",
     "iopub.status.busy": "2021-09-08T20:05:51.242732Z",
     "iopub.status.idle": "2021-09-08T20:05:52.839026Z",
     "shell.execute_reply": "2021-09-08T20:05:52.837961Z",
     "shell.execute_reply.started": "2021-09-08T20:05:51.243019Z"
    }
   },
   "outputs": [],
   "source": [
    "sub = pd.read_csv('../input/tabular-playground-series-sep-2021/sample_solution.csv')\n",
    "\n",
    "sub['claim'] = test_preds\n",
    "\n",
    "sub.to_csv('submission.csv', index=False)"
   ]
  },
  {
   "cell_type": "code",
   "execution_count": null,
   "metadata": {
    "execution": {
     "iopub.execute_input": "2021-09-08T20:05:59.663948Z",
     "iopub.status.busy": "2021-09-08T20:05:59.663612Z",
     "iopub.status.idle": "2021-09-08T20:05:59.672657Z",
     "shell.execute_reply": "2021-09-08T20:05:59.671794Z",
     "shell.execute_reply.started": "2021-09-08T20:05:59.663921Z"
    }
   },
   "outputs": [],
   "source": [
    "sub.head()"
   ]
  }
 ],
 "metadata": {
  "kernelspec": {
   "display_name": "Python 3",
   "language": "python",
   "name": "python3"
  },
  "language_info": {
   "codemirror_mode": {
    "name": "ipython",
    "version": 3
   },
   "file_extension": ".py",
   "mimetype": "text/x-python",
   "name": "python",
   "nbconvert_exporter": "python",
   "pygments_lexer": "ipython3",
   "version": "3.8.8"
  }
 },
 "nbformat": 4,
 "nbformat_minor": 4
}
